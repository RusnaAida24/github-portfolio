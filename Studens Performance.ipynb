{
 "cells": [
  {
   "cell_type": "markdown",
   "id": "d2b4ceda",
   "metadata": {},
   "source": [
    "# Factors Influence Student's Test Performance"
   ]
  },
  {
   "cell_type": "markdown",
   "id": "7d6ec262",
   "metadata": {},
   "source": [
    "Student's score in maths, reading and writing were recorded. Their demographic include gender, race, parents education background, lunch type and test preparation course were stated in order to identify its relationship with the score."
   ]
  },
  {
   "cell_type": "markdown",
   "id": "c98eaeb0",
   "metadata": {},
   "source": [
    "# 1. Import Libraries"
   ]
  },
  {
   "cell_type": "code",
   "execution_count": 1,
   "id": "8d61b145",
   "metadata": {},
   "outputs": [
    {
     "data": {
      "text/html": [
       "<div>\n",
       "<style scoped>\n",
       "    .dataframe tbody tr th:only-of-type {\n",
       "        vertical-align: middle;\n",
       "    }\n",
       "\n",
       "    .dataframe tbody tr th {\n",
       "        vertical-align: top;\n",
       "    }\n",
       "\n",
       "    .dataframe thead th {\n",
       "        text-align: right;\n",
       "    }\n",
       "</style>\n",
       "<table border=\"1\" class=\"dataframe\">\n",
       "  <thead>\n",
       "    <tr style=\"text-align: right;\">\n",
       "      <th></th>\n",
       "      <th>gender</th>\n",
       "      <th>race/ethnicity</th>\n",
       "      <th>parental level of education</th>\n",
       "      <th>lunch</th>\n",
       "      <th>test preparation course</th>\n",
       "      <th>math score</th>\n",
       "      <th>reading score</th>\n",
       "      <th>writing score</th>\n",
       "    </tr>\n",
       "  </thead>\n",
       "  <tbody>\n",
       "    <tr>\n",
       "      <th>0</th>\n",
       "      <td>female</td>\n",
       "      <td>group D</td>\n",
       "      <td>some college</td>\n",
       "      <td>standard</td>\n",
       "      <td>completed</td>\n",
       "      <td>59</td>\n",
       "      <td>70</td>\n",
       "      <td>78</td>\n",
       "    </tr>\n",
       "    <tr>\n",
       "      <th>1</th>\n",
       "      <td>male</td>\n",
       "      <td>group D</td>\n",
       "      <td>associate's degree</td>\n",
       "      <td>standard</td>\n",
       "      <td>none</td>\n",
       "      <td>96</td>\n",
       "      <td>93</td>\n",
       "      <td>87</td>\n",
       "    </tr>\n",
       "    <tr>\n",
       "      <th>2</th>\n",
       "      <td>female</td>\n",
       "      <td>group D</td>\n",
       "      <td>some college</td>\n",
       "      <td>free/reduced</td>\n",
       "      <td>none</td>\n",
       "      <td>57</td>\n",
       "      <td>76</td>\n",
       "      <td>77</td>\n",
       "    </tr>\n",
       "    <tr>\n",
       "      <th>3</th>\n",
       "      <td>male</td>\n",
       "      <td>group B</td>\n",
       "      <td>some college</td>\n",
       "      <td>free/reduced</td>\n",
       "      <td>none</td>\n",
       "      <td>70</td>\n",
       "      <td>70</td>\n",
       "      <td>63</td>\n",
       "    </tr>\n",
       "    <tr>\n",
       "      <th>4</th>\n",
       "      <td>female</td>\n",
       "      <td>group D</td>\n",
       "      <td>associate's degree</td>\n",
       "      <td>standard</td>\n",
       "      <td>none</td>\n",
       "      <td>83</td>\n",
       "      <td>85</td>\n",
       "      <td>86</td>\n",
       "    </tr>\n",
       "    <tr>\n",
       "      <th>...</th>\n",
       "      <td>...</td>\n",
       "      <td>...</td>\n",
       "      <td>...</td>\n",
       "      <td>...</td>\n",
       "      <td>...</td>\n",
       "      <td>...</td>\n",
       "      <td>...</td>\n",
       "      <td>...</td>\n",
       "    </tr>\n",
       "    <tr>\n",
       "      <th>995</th>\n",
       "      <td>male</td>\n",
       "      <td>group C</td>\n",
       "      <td>some college</td>\n",
       "      <td>standard</td>\n",
       "      <td>none</td>\n",
       "      <td>77</td>\n",
       "      <td>77</td>\n",
       "      <td>71</td>\n",
       "    </tr>\n",
       "    <tr>\n",
       "      <th>996</th>\n",
       "      <td>male</td>\n",
       "      <td>group C</td>\n",
       "      <td>some college</td>\n",
       "      <td>standard</td>\n",
       "      <td>none</td>\n",
       "      <td>80</td>\n",
       "      <td>66</td>\n",
       "      <td>66</td>\n",
       "    </tr>\n",
       "    <tr>\n",
       "      <th>997</th>\n",
       "      <td>female</td>\n",
       "      <td>group A</td>\n",
       "      <td>high school</td>\n",
       "      <td>standard</td>\n",
       "      <td>completed</td>\n",
       "      <td>67</td>\n",
       "      <td>86</td>\n",
       "      <td>86</td>\n",
       "    </tr>\n",
       "    <tr>\n",
       "      <th>998</th>\n",
       "      <td>male</td>\n",
       "      <td>group E</td>\n",
       "      <td>high school</td>\n",
       "      <td>standard</td>\n",
       "      <td>none</td>\n",
       "      <td>80</td>\n",
       "      <td>72</td>\n",
       "      <td>62</td>\n",
       "    </tr>\n",
       "    <tr>\n",
       "      <th>999</th>\n",
       "      <td>male</td>\n",
       "      <td>group D</td>\n",
       "      <td>high school</td>\n",
       "      <td>standard</td>\n",
       "      <td>none</td>\n",
       "      <td>58</td>\n",
       "      <td>47</td>\n",
       "      <td>45</td>\n",
       "    </tr>\n",
       "  </tbody>\n",
       "</table>\n",
       "<p>1000 rows × 8 columns</p>\n",
       "</div>"
      ],
      "text/plain": [
       "     gender race/ethnicity parental level of education         lunch  \\\n",
       "0    female        group D                some college      standard   \n",
       "1      male        group D          associate's degree      standard   \n",
       "2    female        group D                some college  free/reduced   \n",
       "3      male        group B                some college  free/reduced   \n",
       "4    female        group D          associate's degree      standard   \n",
       "..      ...            ...                         ...           ...   \n",
       "995    male        group C                some college      standard   \n",
       "996    male        group C                some college      standard   \n",
       "997  female        group A                 high school      standard   \n",
       "998    male        group E                 high school      standard   \n",
       "999    male        group D                 high school      standard   \n",
       "\n",
       "    test preparation course  math score  reading score  writing score  \n",
       "0                 completed          59             70             78  \n",
       "1                      none          96             93             87  \n",
       "2                      none          57             76             77  \n",
       "3                      none          70             70             63  \n",
       "4                      none          83             85             86  \n",
       "..                      ...         ...            ...            ...  \n",
       "995                    none          77             77             71  \n",
       "996                    none          80             66             66  \n",
       "997               completed          67             86             86  \n",
       "998                    none          80             72             62  \n",
       "999                    none          58             47             45  \n",
       "\n",
       "[1000 rows x 8 columns]"
      ]
     },
     "execution_count": 1,
     "metadata": {},
     "output_type": "execute_result"
    }
   ],
   "source": [
    "import pandas as pd\n",
    "import numpy as np\n",
    "import matplotlib.pyplot as plt\n",
    "from sklearn import tree\n",
    "from sklearn.model_selection import train_test_split\n",
    "from sklearn.tree import DecisionTreeRegressor\n",
    "\n",
    "df=pd.read_csv(\"C:/Users/USER/Downloads/Data Science Projects/exams.csv\")\n",
    "df"
   ]
  },
  {
   "cell_type": "markdown",
   "id": "b685d8f9",
   "metadata": {},
   "source": [
    "# 2. Exploratory Data Analysis (EDA)"
   ]
  },
  {
   "cell_type": "markdown",
   "id": "d3127ebc",
   "metadata": {},
   "source": [
    "## 2.1 Summary Statistics"
   ]
  },
  {
   "cell_type": "code",
   "execution_count": 2,
   "id": "50a113dd",
   "metadata": {},
   "outputs": [
    {
     "data": {
      "text/html": [
       "<div>\n",
       "<style scoped>\n",
       "    .dataframe tbody tr th:only-of-type {\n",
       "        vertical-align: middle;\n",
       "    }\n",
       "\n",
       "    .dataframe tbody tr th {\n",
       "        vertical-align: top;\n",
       "    }\n",
       "\n",
       "    .dataframe thead th {\n",
       "        text-align: right;\n",
       "    }\n",
       "</style>\n",
       "<table border=\"1\" class=\"dataframe\">\n",
       "  <thead>\n",
       "    <tr style=\"text-align: right;\">\n",
       "      <th></th>\n",
       "      <th>math score</th>\n",
       "      <th>reading score</th>\n",
       "      <th>writing score</th>\n",
       "    </tr>\n",
       "  </thead>\n",
       "  <tbody>\n",
       "    <tr>\n",
       "      <th>count</th>\n",
       "      <td>1000.000000</td>\n",
       "      <td>1000.000000</td>\n",
       "      <td>1000.000000</td>\n",
       "    </tr>\n",
       "    <tr>\n",
       "      <th>mean</th>\n",
       "      <td>67.810000</td>\n",
       "      <td>70.382000</td>\n",
       "      <td>69.140000</td>\n",
       "    </tr>\n",
       "    <tr>\n",
       "      <th>std</th>\n",
       "      <td>15.250196</td>\n",
       "      <td>14.107413</td>\n",
       "      <td>15.025917</td>\n",
       "    </tr>\n",
       "    <tr>\n",
       "      <th>min</th>\n",
       "      <td>15.000000</td>\n",
       "      <td>25.000000</td>\n",
       "      <td>15.000000</td>\n",
       "    </tr>\n",
       "    <tr>\n",
       "      <th>25%</th>\n",
       "      <td>58.000000</td>\n",
       "      <td>61.000000</td>\n",
       "      <td>59.000000</td>\n",
       "    </tr>\n",
       "    <tr>\n",
       "      <th>50%</th>\n",
       "      <td>68.000000</td>\n",
       "      <td>70.500000</td>\n",
       "      <td>70.000000</td>\n",
       "    </tr>\n",
       "    <tr>\n",
       "      <th>75%</th>\n",
       "      <td>79.250000</td>\n",
       "      <td>80.000000</td>\n",
       "      <td>80.000000</td>\n",
       "    </tr>\n",
       "    <tr>\n",
       "      <th>max</th>\n",
       "      <td>100.000000</td>\n",
       "      <td>100.000000</td>\n",
       "      <td>100.000000</td>\n",
       "    </tr>\n",
       "  </tbody>\n",
       "</table>\n",
       "</div>"
      ],
      "text/plain": [
       "        math score  reading score  writing score\n",
       "count  1000.000000    1000.000000    1000.000000\n",
       "mean     67.810000      70.382000      69.140000\n",
       "std      15.250196      14.107413      15.025917\n",
       "min      15.000000      25.000000      15.000000\n",
       "25%      58.000000      61.000000      59.000000\n",
       "50%      68.000000      70.500000      70.000000\n",
       "75%      79.250000      80.000000      80.000000\n",
       "max     100.000000     100.000000     100.000000"
      ]
     },
     "execution_count": 2,
     "metadata": {},
     "output_type": "execute_result"
    }
   ],
   "source": [
    "df.describe()"
   ]
  },
  {
   "cell_type": "code",
   "execution_count": 3,
   "id": "05992e66",
   "metadata": {},
   "outputs": [
    {
     "data": {
      "text/html": [
       "<div>\n",
       "<style scoped>\n",
       "    .dataframe tbody tr th:only-of-type {\n",
       "        vertical-align: middle;\n",
       "    }\n",
       "\n",
       "    .dataframe tbody tr th {\n",
       "        vertical-align: top;\n",
       "    }\n",
       "\n",
       "    .dataframe thead th {\n",
       "        text-align: right;\n",
       "    }\n",
       "</style>\n",
       "<table border=\"1\" class=\"dataframe\">\n",
       "  <thead>\n",
       "    <tr style=\"text-align: right;\">\n",
       "      <th></th>\n",
       "      <th>gender</th>\n",
       "      <th>race/ethnicity</th>\n",
       "      <th>parental level of education</th>\n",
       "      <th>lunch</th>\n",
       "      <th>test preparation course</th>\n",
       "      <th>math score</th>\n",
       "      <th>reading score</th>\n",
       "      <th>writing score</th>\n",
       "    </tr>\n",
       "  </thead>\n",
       "  <tbody>\n",
       "    <tr>\n",
       "      <th>0</th>\n",
       "      <td>False</td>\n",
       "      <td>False</td>\n",
       "      <td>False</td>\n",
       "      <td>False</td>\n",
       "      <td>False</td>\n",
       "      <td>False</td>\n",
       "      <td>False</td>\n",
       "      <td>False</td>\n",
       "    </tr>\n",
       "    <tr>\n",
       "      <th>1</th>\n",
       "      <td>False</td>\n",
       "      <td>False</td>\n",
       "      <td>False</td>\n",
       "      <td>False</td>\n",
       "      <td>False</td>\n",
       "      <td>False</td>\n",
       "      <td>False</td>\n",
       "      <td>False</td>\n",
       "    </tr>\n",
       "    <tr>\n",
       "      <th>2</th>\n",
       "      <td>False</td>\n",
       "      <td>False</td>\n",
       "      <td>False</td>\n",
       "      <td>False</td>\n",
       "      <td>False</td>\n",
       "      <td>False</td>\n",
       "      <td>False</td>\n",
       "      <td>False</td>\n",
       "    </tr>\n",
       "    <tr>\n",
       "      <th>3</th>\n",
       "      <td>False</td>\n",
       "      <td>False</td>\n",
       "      <td>False</td>\n",
       "      <td>False</td>\n",
       "      <td>False</td>\n",
       "      <td>False</td>\n",
       "      <td>False</td>\n",
       "      <td>False</td>\n",
       "    </tr>\n",
       "    <tr>\n",
       "      <th>4</th>\n",
       "      <td>False</td>\n",
       "      <td>False</td>\n",
       "      <td>False</td>\n",
       "      <td>False</td>\n",
       "      <td>False</td>\n",
       "      <td>False</td>\n",
       "      <td>False</td>\n",
       "      <td>False</td>\n",
       "    </tr>\n",
       "    <tr>\n",
       "      <th>...</th>\n",
       "      <td>...</td>\n",
       "      <td>...</td>\n",
       "      <td>...</td>\n",
       "      <td>...</td>\n",
       "      <td>...</td>\n",
       "      <td>...</td>\n",
       "      <td>...</td>\n",
       "      <td>...</td>\n",
       "    </tr>\n",
       "    <tr>\n",
       "      <th>995</th>\n",
       "      <td>False</td>\n",
       "      <td>False</td>\n",
       "      <td>False</td>\n",
       "      <td>False</td>\n",
       "      <td>False</td>\n",
       "      <td>False</td>\n",
       "      <td>False</td>\n",
       "      <td>False</td>\n",
       "    </tr>\n",
       "    <tr>\n",
       "      <th>996</th>\n",
       "      <td>False</td>\n",
       "      <td>False</td>\n",
       "      <td>False</td>\n",
       "      <td>False</td>\n",
       "      <td>False</td>\n",
       "      <td>False</td>\n",
       "      <td>False</td>\n",
       "      <td>False</td>\n",
       "    </tr>\n",
       "    <tr>\n",
       "      <th>997</th>\n",
       "      <td>False</td>\n",
       "      <td>False</td>\n",
       "      <td>False</td>\n",
       "      <td>False</td>\n",
       "      <td>False</td>\n",
       "      <td>False</td>\n",
       "      <td>False</td>\n",
       "      <td>False</td>\n",
       "    </tr>\n",
       "    <tr>\n",
       "      <th>998</th>\n",
       "      <td>False</td>\n",
       "      <td>False</td>\n",
       "      <td>False</td>\n",
       "      <td>False</td>\n",
       "      <td>False</td>\n",
       "      <td>False</td>\n",
       "      <td>False</td>\n",
       "      <td>False</td>\n",
       "    </tr>\n",
       "    <tr>\n",
       "      <th>999</th>\n",
       "      <td>False</td>\n",
       "      <td>False</td>\n",
       "      <td>False</td>\n",
       "      <td>False</td>\n",
       "      <td>False</td>\n",
       "      <td>False</td>\n",
       "      <td>False</td>\n",
       "      <td>False</td>\n",
       "    </tr>\n",
       "  </tbody>\n",
       "</table>\n",
       "<p>1000 rows × 8 columns</p>\n",
       "</div>"
      ],
      "text/plain": [
       "     gender  race/ethnicity  parental level of education  lunch  \\\n",
       "0     False           False                        False  False   \n",
       "1     False           False                        False  False   \n",
       "2     False           False                        False  False   \n",
       "3     False           False                        False  False   \n",
       "4     False           False                        False  False   \n",
       "..      ...             ...                          ...    ...   \n",
       "995   False           False                        False  False   \n",
       "996   False           False                        False  False   \n",
       "997   False           False                        False  False   \n",
       "998   False           False                        False  False   \n",
       "999   False           False                        False  False   \n",
       "\n",
       "     test preparation course  math score  reading score  writing score  \n",
       "0                      False       False          False          False  \n",
       "1                      False       False          False          False  \n",
       "2                      False       False          False          False  \n",
       "3                      False       False          False          False  \n",
       "4                      False       False          False          False  \n",
       "..                       ...         ...            ...            ...  \n",
       "995                    False       False          False          False  \n",
       "996                    False       False          False          False  \n",
       "997                    False       False          False          False  \n",
       "998                    False       False          False          False  \n",
       "999                    False       False          False          False  \n",
       "\n",
       "[1000 rows x 8 columns]"
      ]
     },
     "execution_count": 3,
     "metadata": {},
     "output_type": "execute_result"
    }
   ],
   "source": [
    "df.isnull()"
   ]
  },
  {
   "cell_type": "code",
   "execution_count": 4,
   "id": "f2900398",
   "metadata": {},
   "outputs": [
    {
     "name": "stdout",
     "output_type": "stream",
     "text": [
      "<class 'pandas.core.frame.DataFrame'>\n",
      "RangeIndex: 1000 entries, 0 to 999\n",
      "Data columns (total 8 columns):\n",
      " #   Column                       Non-Null Count  Dtype \n",
      "---  ------                       --------------  ----- \n",
      " 0   gender                       1000 non-null   object\n",
      " 1   race/ethnicity               1000 non-null   object\n",
      " 2   parental level of education  1000 non-null   object\n",
      " 3   lunch                        1000 non-null   object\n",
      " 4   test preparation course      1000 non-null   object\n",
      " 5   math score                   1000 non-null   int64 \n",
      " 6   reading score                1000 non-null   int64 \n",
      " 7   writing score                1000 non-null   int64 \n",
      "dtypes: int64(3), object(5)\n",
      "memory usage: 62.6+ KB\n"
     ]
    }
   ],
   "source": [
    "df.info()"
   ]
  },
  {
   "cell_type": "code",
   "execution_count": 5,
   "id": "4f08eb1a",
   "metadata": {},
   "outputs": [
    {
     "name": "stdout",
     "output_type": "stream",
     "text": [
      "['female' 'male']\n",
      "['group D' 'group B' 'group C' 'group E' 'group A']\n",
      "['some college' \"associate's degree\" 'some high school'\n",
      " \"bachelor's degree\" \"master's degree\" 'high school']\n",
      "['standard' 'free/reduced']\n",
      "['completed' 'none']\n"
     ]
    }
   ],
   "source": [
    "print(df[\"gender\"].unique())\n",
    "print(df[\"race/ethnicity\"].unique())\n",
    "print(df[\"parental level of education\"].unique())\n",
    "print(df[\"lunch\"].unique())\n",
    "print(df[\"test preparation course\"].unique())"
   ]
  },
  {
   "cell_type": "markdown",
   "id": "eee7b2f6",
   "metadata": {},
   "source": [
    "## 2.2 Data Visualization"
   ]
  },
  {
   "cell_type": "markdown",
   "id": "9a08d411",
   "metadata": {},
   "source": [
    "### 2.2.1 Gender"
   ]
  },
  {
   "cell_type": "code",
   "execution_count": 6,
   "id": "80baa295",
   "metadata": {},
   "outputs": [
    {
     "data": {
      "image/png": "[encoded data removed]",
      "text/plain": [
       "<Figure size 640x480 with 1 Axes>"
      ]
     },
     "metadata": {},
     "output_type": "display_data"
    }
   ],
   "source": [
    "# Sample data\n",
    "genders = ['Female', 'Male']  \n",
    "\n",
    "# Group the DataFrame by 'gender' and calculate the mean scores\n",
    "means = df.groupby('gender')[['math score', 'reading score', 'writing score']].mean()\n",
    "\n",
    "# Get the number of categories and scores\n",
    "num_categories = len(genders)\n",
    "num_scores = len(means.columns)\n",
    "\n",
    "# Set the positions and width for the bars\n",
    "x = np.arange(num_categories)\n",
    "bar_width = 0.2\n",
    "colors=[\"green\",\"pink\",\"red\"]\n",
    "# Create the grouped bar chart\n",
    "for i, score in enumerate(means.columns):\n",
    "    plt.bar(x + i * bar_width, means[score], width=bar_width, label=score, align='center',color=colors[i])\n",
    "\n",
    "# Customize the plot\n",
    "plt.xlabel('Gender')\n",
    "plt.ylabel('Mean Score')\n",
    "plt.title('Mean Scores by Gender')\n",
    "plt.xticks(x + (bar_width * (num_scores - 1) / 2), genders)\n",
    "plt.legend()\n",
    "\n",
    "# Show the plot\n",
    "plt.show()\n"
   ]
  },
  {
   "cell_type": "markdown",
   "id": "78b35478",
   "metadata": {},
   "source": [
    "In this loop: <br><br>\n",
    "\n",
    "-i is the loop index, as explained in the previous response.<br>\n",
    "-score is a loop variable that represents the name of each score category (e.g., 'math score,' 'reading score,' or 'writing score') as we iterate through the columns in means.columns.<br><br>\n",
    "\n",
    "As the loop iterates, score takes on the values of each column name, and this allows us to create a separate bar for each score category on the bar chart. The label=score part is used to label each set of bars with the corresponding score category name in the legend of the plot. This way, we can distinguish between the different categories on the chart.<br>\n",
    "\n",
    "Female averagely got the higher score than male in reading and writing score, above than 70%. While, for math score, male got higher score averagely.\n",
    "\n"
   ]
  },
  {
   "cell_type": "markdown",
   "id": "d2dbf92e",
   "metadata": {},
   "source": [
    "### 2.2.2 Race"
   ]
  },
  {
   "cell_type": "code",
   "execution_count": 7,
   "id": "8e16fc09",
   "metadata": {},
   "outputs": [
    {
     "data": {
      "image/png": "[encoded data removed]",
      "text/plain": [
       "<Figure size 640x480 with 1 Axes>"
      ]
     },
     "metadata": {},
     "output_type": "display_data"
    }
   ],
   "source": [
    "import matplotlib.pyplot as plt\n",
    "\n",
    "# Sample data\n",
    "ethnic = ['group A', 'group B', 'group C', 'group D', 'group E']\n",
    "\n",
    "# Group the DataFrame by 'parental level of education' and calculate the mean scores\n",
    "means = df.groupby('race/ethnicity')[['math score', 'reading score', 'writing score']].mean()\n",
    "\n",
    "# Get the number of categories and scores\n",
    "et_categories = len(ethnic)\n",
    "num_scores2 = len(means.columns)\n",
    "\n",
    "# Create a scatter plot\n",
    "for i, score in enumerate(means.columns):\n",
    "    x = range(et_categories)\n",
    "    y = means[score]\n",
    "    plt.scatter(x,y,label=score)\n",
    "\n",
    "# Customize the plot\n",
    "plt.xlabel(\"Race\")\n",
    "plt.ylabel(\"Mean Score\")\n",
    "plt.title(\"Pie Plot of Mean Scores by Parent's Education Level\")\n",
    "plt.xticks(range(et_categories), ethnic, rotation=45)\n",
    "plt.legend()\n",
    "\n",
    "# Show the plot\n",
    "plt.tight_layout()\n",
    "plt.show()"
   ]
  },
  {
   "cell_type": "markdown",
   "id": "a05e9144",
   "metadata": {},
   "source": [
    "Ethnic from group E averagely scored the highest mark among ethnics."
   ]
  },
  {
   "cell_type": "markdown",
   "id": "179e5ff0",
   "metadata": {},
   "source": [
    "### 2.2.3 Parents Education"
   ]
  },
  {
   "cell_type": "code",
   "execution_count": 8,
   "id": "0048281e",
   "metadata": {},
   "outputs": [
    {
     "data": {
      "image/png": "[encoded data removed]",
      "text/plain": [
       "<Figure size 640x480 with 1 Axes>"
      ]
     },
     "metadata": {},
     "output_type": "display_data"
    }
   ],
   "source": [
    "import matplotlib.pyplot as plt\n",
    "\n",
    "# Sample data\n",
    "edu = ['some college', \"associate's degree\", 'some high school',\n",
    "    \"bachelor's degree\", \"master's degree\", 'high school']\n",
    "\n",
    "# Group the DataFrame by 'parental level of education' and calculate the mean scores\n",
    "means = df.groupby('parental level of education')[['math score', 'reading score', 'writing score']].mean()\n",
    "\n",
    "# Get the number of categories and scores\n",
    "edu_categories = len(edu)\n",
    "num_scores2 = len(means.columns)\n",
    "\n",
    "# Create a scatter plot\n",
    "for i, score in enumerate(means.columns):\n",
    "    x = range(edu_categories)\n",
    "    y = means[score]\n",
    "    plt.scatter(x, y, label=score)\n",
    "\n",
    "# Customize the plot\n",
    "plt.xlabel(\"Parental Education\")\n",
    "plt.ylabel(\"Mean Score\")\n",
    "plt.title(\"Scatter Plot of Mean Scores by Parent's Education Level\")\n",
    "plt.xticks(range(edu_categories), edu, rotation=45)\n",
    "plt.legend()\n",
    "\n",
    "# Show the plot\n",
    "plt.tight_layout()\n",
    "plt.show()\n"
   ]
  },
  {
   "cell_type": "markdown",
   "id": "df1e7553",
   "metadata": {},
   "source": [
    "Student's performance in test are influenced by parental education, in which student who have parents with high education levels tend to score higher than those with parents with low education level include high school and some high school."
   ]
  },
  {
   "cell_type": "markdown",
   "id": "f82aa6be",
   "metadata": {},
   "source": [
    "### 2.2.4 Lunch and Test Preparation Course"
   ]
  },
  {
   "cell_type": "code",
   "execution_count": 29,
   "id": "74bff3e9",
   "metadata": {},
   "outputs": [
    {
     "data": {
      "image/png": "[encoded data removed]",
      "text/plain": [
       "<Figure size 640x480 with 1 Axes>"
      ]
     },
     "metadata": {},
     "output_type": "display_data"
    }
   ],
   "source": [
    "import matplotlib.pyplot as plt\n",
    "\n",
    "# Sample data\n",
    "lnch = ['standard','free/reduced']\n",
    "\n",
    "# Group the DataFrame by 'parental level of education' and calculate the mean scores\n",
    "means = df.groupby('lunch')[['math score', 'reading score', 'writing score']].mean()\n",
    "\n",
    "# Get the number of categories and scores\n",
    "lunch_type = len(lnch)\n",
    "num_scores5 = len(means.columns)\n",
    "\n",
    "# Set the positions and width for the bars\n",
    "x = np.arange(lunch_type)\n",
    "bar_width = 0.2\n",
    "colors=[\"green\",\"blue\",\"red\"]\n",
    "\n",
    "# Create the grouped bar chart\n",
    "for i, score in enumerate(means.columns):\n",
    "    plt.bar(x + i * bar_width, means[score], width=bar_width, label=score, align='center',color=colors[i])\n",
    "\n",
    "# Customize the plot\n",
    "plt.xlabel('Test Preparation Courses')\n",
    "plt.ylabel('Mean Score')\n",
    "plt.title('Mean Scores by Test Preparation Courses')\n",
    "plt.xticks(x + (bar_width * (num_scores5 - 1) / 2), lnch)\n",
    "plt.legend()\n",
    "\n",
    "# Show the plot\n",
    "plt.show()"
   ]
  },
  {
   "cell_type": "code",
   "execution_count": 10,
   "id": "6b160c96",
   "metadata": {},
   "outputs": [
    {
     "data": {
      "image/png": "[encoded data removed]",
      "text/plain": [
       "<Figure size 640x480 with 1 Axes>"
      ]
     },
     "metadata": {},
     "output_type": "display_data"
    }
   ],
   "source": [
    "import matplotlib.pyplot as plt\n",
    "\n",
    "# Sample data\n",
    "compnone = ['completed','none']\n",
    "\n",
    "# Group the DataFrame by 'parental level of education' and calculate the mean scores\n",
    "means = df.groupby('test preparation course')[['math score', 'reading score', 'writing score']].mean()\n",
    "\n",
    "# Get the number of categories and scores\n",
    "comp_type = len(compnone)\n",
    "num_scores4 = len(means.columns)\n",
    "\n",
    "# Set the positions and width for the bars\n",
    "x = np.arange(comp_type)\n",
    "bar_width = 0.2\n",
    "colors=[\"green\",\"blue\",\"red\"]\n",
    "\n",
    "# Create the grouped bar chart\n",
    "for i, score in enumerate(means.columns):\n",
    "    plt.bar(x + i * bar_width, means[score], width=bar_width, label=score, align='center',color=colors[i])\n",
    "\n",
    "# Customize the plot\n",
    "plt.xlabel('Test Preparation Courses')\n",
    "plt.ylabel('Mean Score')\n",
    "plt.title('Mean Scores by Test Preparation Courses')\n",
    "plt.xticks(x + (bar_width * (num_scores4 - 1) / 2), compnone)\n",
    "plt.legend()\n",
    "\n",
    "# Show the plot\n",
    "plt.show()"
   ]
  },
  {
   "cell_type": "markdown",
   "id": "6309b351",
   "metadata": {},
   "source": [
    "Students who have standard meals seems to get much higher score than those who have free/reduced meals during their lunch. <br><br>\n",
    "And for test preparation course, students who complete it got the higher score than those who don't."
   ]
  },
  {
   "cell_type": "markdown",
   "id": "7242a47c",
   "metadata": {},
   "source": [
    "## 2.3 Hypothesis Testing"
   ]
  },
  {
   "cell_type": "code",
   "execution_count": 11,
   "id": "1cd361cf",
   "metadata": {},
   "outputs": [
    {
     "name": "stdout",
     "output_type": "stream",
     "text": [
      "Test statistic: -810.8456750441966\n",
      "p-value: 5.4150910279738245e-14\n",
      "Reject the null hypothesis.\n"
     ]
    }
   ],
   "source": [
    "import scipy.stats as stats\n",
    "\n",
    "# Group the DataFrame by 'parental level of education' and calculate the mean scores\n",
    "means = df.groupby('parental level of education')['math score'].mean()\n",
    "\n",
    "# Get the number of scores\n",
    "#num_scores2 = len(means.columns)\n",
    "\n",
    "# Define the null hypothesis\n",
    "H0 = \"The average score for student with associate degree as parental background  is less than 80%.\"\n",
    "\n",
    "# Define the alternative hypothesis\n",
    "H1 = \"The average score for student with associate degree as parental background  is more than 80%.\"\n",
    "\n",
    "# Calculate the test statistic\n",
    "t_stat, p_value = stats.ttest_1samp(means, 999)\n",
    "\n",
    "# Print the results\n",
    "print(\"Test statistic:\", t_stat)\n",
    "print(\"p-value:\", p_value)\n",
    "\n",
    "# Conclusion\n",
    "if p_value < 0.05:\n",
    "    print(\"Reject the null hypothesis.\")\n",
    "else:\n",
    "    print(\"Fail to reject the null hypothesis.\")"
   ]
  },
  {
   "cell_type": "markdown",
   "id": "3633469f",
   "metadata": {},
   "source": [
    "# Data Processing"
   ]
  },
  {
   "cell_type": "markdown",
   "id": "b2d7c762",
   "metadata": {},
   "source": [
    "1) Change the columns name <br>\n",
    "2) Replace string into int/float"
   ]
  },
  {
   "cell_type": "code",
   "execution_count": 12,
   "id": "9388a0e4",
   "metadata": {},
   "outputs": [],
   "source": [
    "df.rename(columns={\"race/ethnicity\":\"race\"}, inplace=True)\n",
    "df.rename(columns={\"parental level of education\":\"parents_edu\"}, inplace=True)\n",
    "df.rename(columns={\"test preparation course\":\"test_prep\"}, inplace=True)"
   ]
  },
  {
   "cell_type": "code",
   "execution_count": 13,
   "id": "1e399e08",
   "metadata": {},
   "outputs": [
    {
     "name": "stderr",
     "output_type": "stream",
     "text": [
      "C:\\Users\\USER\\AppData\\Local\\Temp\\ipykernel_9528\\1624912702.py:1: SettingWithCopyWarning: \n",
      "A value is trying to be set on a copy of a slice from a DataFrame\n",
      "\n",
      "See the caveats in the documentation: https://pandas.pydata.org/pandas-docs/stable/user_guide/indexing.html#returning-a-view-versus-a-copy\n",
      "  df.gender[df.gender == 'male'] = 1\n",
      "C:\\Users\\USER\\AppData\\Local\\Temp\\ipykernel_9528\\1624912702.py:2: SettingWithCopyWarning: \n",
      "A value is trying to be set on a copy of a slice from a DataFrame\n",
      "\n",
      "See the caveats in the documentation: https://pandas.pydata.org/pandas-docs/stable/user_guide/indexing.html#returning-a-view-versus-a-copy\n",
      "  df.gender[df.gender == 'female'] = 2\n"
     ]
    }
   ],
   "source": [
    "df.gender[df.gender == 'male'] = 1\n",
    "df.gender[df.gender == 'female'] = 2"
   ]
  },
  {
   "cell_type": "code",
   "execution_count": 14,
   "id": "8f5b3726",
   "metadata": {},
   "outputs": [
    {
     "data": {
      "text/html": [
       "<div>\n",
       "<style scoped>\n",
       "    .dataframe tbody tr th:only-of-type {\n",
       "        vertical-align: middle;\n",
       "    }\n",
       "\n",
       "    .dataframe tbody tr th {\n",
       "        vertical-align: top;\n",
       "    }\n",
       "\n",
       "    .dataframe thead th {\n",
       "        text-align: right;\n",
       "    }\n",
       "</style>\n",
       "<table border=\"1\" class=\"dataframe\">\n",
       "  <thead>\n",
       "    <tr style=\"text-align: right;\">\n",
       "      <th></th>\n",
       "      <th>gender</th>\n",
       "      <th>race</th>\n",
       "      <th>parents_edu</th>\n",
       "      <th>lunch</th>\n",
       "      <th>test_prep</th>\n",
       "      <th>math score</th>\n",
       "      <th>reading score</th>\n",
       "      <th>writing score</th>\n",
       "    </tr>\n",
       "  </thead>\n",
       "  <tbody>\n",
       "    <tr>\n",
       "      <th>0</th>\n",
       "      <td>2</td>\n",
       "      <td>group D</td>\n",
       "      <td>some college</td>\n",
       "      <td>standard</td>\n",
       "      <td>completed</td>\n",
       "      <td>59</td>\n",
       "      <td>70</td>\n",
       "      <td>78</td>\n",
       "    </tr>\n",
       "    <tr>\n",
       "      <th>1</th>\n",
       "      <td>1</td>\n",
       "      <td>group D</td>\n",
       "      <td>associate's degree</td>\n",
       "      <td>standard</td>\n",
       "      <td>none</td>\n",
       "      <td>96</td>\n",
       "      <td>93</td>\n",
       "      <td>87</td>\n",
       "    </tr>\n",
       "    <tr>\n",
       "      <th>2</th>\n",
       "      <td>2</td>\n",
       "      <td>group D</td>\n",
       "      <td>some college</td>\n",
       "      <td>free/reduced</td>\n",
       "      <td>none</td>\n",
       "      <td>57</td>\n",
       "      <td>76</td>\n",
       "      <td>77</td>\n",
       "    </tr>\n",
       "    <tr>\n",
       "      <th>3</th>\n",
       "      <td>1</td>\n",
       "      <td>group B</td>\n",
       "      <td>some college</td>\n",
       "      <td>free/reduced</td>\n",
       "      <td>none</td>\n",
       "      <td>70</td>\n",
       "      <td>70</td>\n",
       "      <td>63</td>\n",
       "    </tr>\n",
       "    <tr>\n",
       "      <th>4</th>\n",
       "      <td>2</td>\n",
       "      <td>group D</td>\n",
       "      <td>associate's degree</td>\n",
       "      <td>standard</td>\n",
       "      <td>none</td>\n",
       "      <td>83</td>\n",
       "      <td>85</td>\n",
       "      <td>86</td>\n",
       "    </tr>\n",
       "  </tbody>\n",
       "</table>\n",
       "</div>"
      ],
      "text/plain": [
       "  gender     race         parents_edu         lunch  test_prep  math score  \\\n",
       "0      2  group D        some college      standard  completed          59   \n",
       "1      1  group D  associate's degree      standard       none          96   \n",
       "2      2  group D        some college  free/reduced       none          57   \n",
       "3      1  group B        some college  free/reduced       none          70   \n",
       "4      2  group D  associate's degree      standard       none          83   \n",
       "\n",
       "   reading score  writing score  \n",
       "0             70             78  \n",
       "1             93             87  \n",
       "2             76             77  \n",
       "3             70             63  \n",
       "4             85             86  "
      ]
     },
     "execution_count": 14,
     "metadata": {},
     "output_type": "execute_result"
    }
   ],
   "source": [
    "df.head()"
   ]
  },
  {
   "cell_type": "markdown",
   "id": "5f51058b",
   "metadata": {},
   "source": [
    "**Change other values as well.**<br>\n",
    "**RACE**<br>\n",
    "group A-->1 <br>\n",
    "group B-->2 <br>\n",
    "group C-->3 <br>\n",
    "group D-->4 <br>\n",
    "group E-->5 <br><br>\n",
    "\n",
    "**PARENTS EDUCATION** <br>\n",
    "master's degree-->1 <br>\n",
    "bachelor's degree-->2 <br>\n",
    "associate's degree-->3 <br>\n",
    "some college-->4 <br>\n",
    "high school-->5 <br>\n",
    "some high school-->6 <br><br>\n",
    "\n",
    "**LUNCH**<br>\n",
    "standard-->1 <br>\n",
    "free/reduced-->2 <br><br>\n",
    "\n",
    "**TEST PREPARATION COURSE**<br>\n",
    "completed-->1 <br>\n",
    "none-->2 <br><br>\n"
   ]
  },
  {
   "cell_type": "code",
   "execution_count": 15,
   "id": "79c1b4a7",
   "metadata": {},
   "outputs": [
    {
     "name": "stderr",
     "output_type": "stream",
     "text": [
      "C:\\Users\\USER\\AppData\\Local\\Temp\\ipykernel_9528\\3170825588.py:1: SettingWithCopyWarning: \n",
      "A value is trying to be set on a copy of a slice from a DataFrame\n",
      "\n",
      "See the caveats in the documentation: https://pandas.pydata.org/pandas-docs/stable/user_guide/indexing.html#returning-a-view-versus-a-copy\n",
      "  df.race[df.race == 'group A'] = 1\n",
      "C:\\Users\\USER\\AppData\\Local\\Temp\\ipykernel_9528\\3170825588.py:2: SettingWithCopyWarning: \n",
      "A value is trying to be set on a copy of a slice from a DataFrame\n",
      "\n",
      "See the caveats in the documentation: https://pandas.pydata.org/pandas-docs/stable/user_guide/indexing.html#returning-a-view-versus-a-copy\n",
      "  df.race[df.race == 'group B'] = 2\n",
      "C:\\Users\\USER\\AppData\\Local\\Temp\\ipykernel_9528\\3170825588.py:3: SettingWithCopyWarning: \n",
      "A value is trying to be set on a copy of a slice from a DataFrame\n",
      "\n",
      "See the caveats in the documentation: https://pandas.pydata.org/pandas-docs/stable/user_guide/indexing.html#returning-a-view-versus-a-copy\n",
      "  df.race[df.race == 'group C'] = 3\n",
      "C:\\Users\\USER\\AppData\\Local\\Temp\\ipykernel_9528\\3170825588.py:4: SettingWithCopyWarning: \n",
      "A value is trying to be set on a copy of a slice from a DataFrame\n",
      "\n",
      "See the caveats in the documentation: https://pandas.pydata.org/pandas-docs/stable/user_guide/indexing.html#returning-a-view-versus-a-copy\n",
      "  df.race[df.race == 'group D'] = 4\n",
      "C:\\Users\\USER\\AppData\\Local\\Temp\\ipykernel_9528\\3170825588.py:5: SettingWithCopyWarning: \n",
      "A value is trying to be set on a copy of a slice from a DataFrame\n",
      "\n",
      "See the caveats in the documentation: https://pandas.pydata.org/pandas-docs/stable/user_guide/indexing.html#returning-a-view-versus-a-copy\n",
      "  df.race[df.race == 'group E'] = 5\n",
      "C:\\Users\\USER\\AppData\\Local\\Temp\\ipykernel_9528\\3170825588.py:7: SettingWithCopyWarning: \n",
      "A value is trying to be set on a copy of a slice from a DataFrame\n",
      "\n",
      "See the caveats in the documentation: https://pandas.pydata.org/pandas-docs/stable/user_guide/indexing.html#returning-a-view-versus-a-copy\n",
      "  df.parents_edu[df.parents_edu == \"master's degree\"] = 1\n",
      "C:\\Users\\USER\\AppData\\Local\\Temp\\ipykernel_9528\\3170825588.py:8: SettingWithCopyWarning: \n",
      "A value is trying to be set on a copy of a slice from a DataFrame\n",
      "\n",
      "See the caveats in the documentation: https://pandas.pydata.org/pandas-docs/stable/user_guide/indexing.html#returning-a-view-versus-a-copy\n",
      "  df.parents_edu[df.parents_edu == \"bachelor's degree\"] = 2\n",
      "C:\\Users\\USER\\AppData\\Local\\Temp\\ipykernel_9528\\3170825588.py:9: SettingWithCopyWarning: \n",
      "A value is trying to be set on a copy of a slice from a DataFrame\n",
      "\n",
      "See the caveats in the documentation: https://pandas.pydata.org/pandas-docs/stable/user_guide/indexing.html#returning-a-view-versus-a-copy\n",
      "  df.parents_edu[df.parents_edu == \"associate's degree\"] = 3\n",
      "C:\\Users\\USER\\AppData\\Local\\Temp\\ipykernel_9528\\3170825588.py:10: SettingWithCopyWarning: \n",
      "A value is trying to be set on a copy of a slice from a DataFrame\n",
      "\n",
      "See the caveats in the documentation: https://pandas.pydata.org/pandas-docs/stable/user_guide/indexing.html#returning-a-view-versus-a-copy\n",
      "  df.parents_edu[df.parents_edu == \"some college\"] = 4\n",
      "C:\\Users\\USER\\AppData\\Local\\Temp\\ipykernel_9528\\3170825588.py:11: SettingWithCopyWarning: \n",
      "A value is trying to be set on a copy of a slice from a DataFrame\n",
      "\n",
      "See the caveats in the documentation: https://pandas.pydata.org/pandas-docs/stable/user_guide/indexing.html#returning-a-view-versus-a-copy\n",
      "  df.parents_edu[df.parents_edu == \"high school\"] = 5\n",
      "C:\\Users\\USER\\AppData\\Local\\Temp\\ipykernel_9528\\3170825588.py:12: SettingWithCopyWarning: \n",
      "A value is trying to be set on a copy of a slice from a DataFrame\n",
      "\n",
      "See the caveats in the documentation: https://pandas.pydata.org/pandas-docs/stable/user_guide/indexing.html#returning-a-view-versus-a-copy\n",
      "  df.parents_edu[df.parents_edu == \"some high school\"] = 6\n",
      "C:\\Users\\USER\\AppData\\Local\\Temp\\ipykernel_9528\\3170825588.py:14: SettingWithCopyWarning: \n",
      "A value is trying to be set on a copy of a slice from a DataFrame\n",
      "\n",
      "See the caveats in the documentation: https://pandas.pydata.org/pandas-docs/stable/user_guide/indexing.html#returning-a-view-versus-a-copy\n",
      "  df.lunch[df.lunch == 'standard'] = 1\n",
      "C:\\Users\\USER\\AppData\\Local\\Temp\\ipykernel_9528\\3170825588.py:15: SettingWithCopyWarning: \n",
      "A value is trying to be set on a copy of a slice from a DataFrame\n",
      "\n",
      "See the caveats in the documentation: https://pandas.pydata.org/pandas-docs/stable/user_guide/indexing.html#returning-a-view-versus-a-copy\n",
      "  df.lunch[df.lunch == 'free/reduced'] = 2\n",
      "C:\\Users\\USER\\AppData\\Local\\Temp\\ipykernel_9528\\3170825588.py:17: SettingWithCopyWarning: \n",
      "A value is trying to be set on a copy of a slice from a DataFrame\n",
      "\n",
      "See the caveats in the documentation: https://pandas.pydata.org/pandas-docs/stable/user_guide/indexing.html#returning-a-view-versus-a-copy\n",
      "  df.test_prep[df.test_prep == 'completed'] = 1\n",
      "C:\\Users\\USER\\AppData\\Local\\Temp\\ipykernel_9528\\3170825588.py:18: SettingWithCopyWarning: \n",
      "A value is trying to be set on a copy of a slice from a DataFrame\n",
      "\n",
      "See the caveats in the documentation: https://pandas.pydata.org/pandas-docs/stable/user_guide/indexing.html#returning-a-view-versus-a-copy\n",
      "  df.test_prep[df.test_prep == 'none'] = 2\n"
     ]
    }
   ],
   "source": [
    "df.race[df.race == 'group A'] = 1\n",
    "df.race[df.race == 'group B'] = 2\n",
    "df.race[df.race == 'group C'] = 3\n",
    "df.race[df.race == 'group D'] = 4\n",
    "df.race[df.race == 'group E'] = 5\n",
    "\n",
    "df.parents_edu[df.parents_edu == \"master's degree\"] = 1\n",
    "df.parents_edu[df.parents_edu == \"bachelor's degree\"] = 2\n",
    "df.parents_edu[df.parents_edu == \"associate's degree\"] = 3\n",
    "df.parents_edu[df.parents_edu == \"some college\"] = 4\n",
    "df.parents_edu[df.parents_edu == \"high school\"] = 5\n",
    "df.parents_edu[df.parents_edu == \"some high school\"] = 6\n",
    "\n",
    "df.lunch[df.lunch == 'standard'] = 1\n",
    "df.lunch[df.lunch == 'free/reduced'] = 2\n",
    "\n",
    "df.test_prep[df.test_prep == 'completed'] = 1\n",
    "df.test_prep[df.test_prep == 'none'] = 2"
   ]
  },
  {
   "cell_type": "code",
   "execution_count": 16,
   "id": "b6d453d5",
   "metadata": {},
   "outputs": [
    {
     "data": {
      "text/html": [
       "<div>\n",
       "<style scoped>\n",
       "    .dataframe tbody tr th:only-of-type {\n",
       "        vertical-align: middle;\n",
       "    }\n",
       "\n",
       "    .dataframe tbody tr th {\n",
       "        vertical-align: top;\n",
       "    }\n",
       "\n",
       "    .dataframe thead th {\n",
       "        text-align: right;\n",
       "    }\n",
       "</style>\n",
       "<table border=\"1\" class=\"dataframe\">\n",
       "  <thead>\n",
       "    <tr style=\"text-align: right;\">\n",
       "      <th></th>\n",
       "      <th>gender</th>\n",
       "      <th>race</th>\n",
       "      <th>parents_edu</th>\n",
       "      <th>lunch</th>\n",
       "      <th>test_prep</th>\n",
       "      <th>math score</th>\n",
       "      <th>reading score</th>\n",
       "      <th>writing score</th>\n",
       "    </tr>\n",
       "  </thead>\n",
       "  <tbody>\n",
       "    <tr>\n",
       "      <th>0</th>\n",
       "      <td>2</td>\n",
       "      <td>4</td>\n",
       "      <td>4</td>\n",
       "      <td>1</td>\n",
       "      <td>1</td>\n",
       "      <td>59</td>\n",
       "      <td>70</td>\n",
       "      <td>78</td>\n",
       "    </tr>\n",
       "    <tr>\n",
       "      <th>1</th>\n",
       "      <td>1</td>\n",
       "      <td>4</td>\n",
       "      <td>3</td>\n",
       "      <td>1</td>\n",
       "      <td>2</td>\n",
       "      <td>96</td>\n",
       "      <td>93</td>\n",
       "      <td>87</td>\n",
       "    </tr>\n",
       "    <tr>\n",
       "      <th>2</th>\n",
       "      <td>2</td>\n",
       "      <td>4</td>\n",
       "      <td>4</td>\n",
       "      <td>2</td>\n",
       "      <td>2</td>\n",
       "      <td>57</td>\n",
       "      <td>76</td>\n",
       "      <td>77</td>\n",
       "    </tr>\n",
       "    <tr>\n",
       "      <th>3</th>\n",
       "      <td>1</td>\n",
       "      <td>2</td>\n",
       "      <td>4</td>\n",
       "      <td>2</td>\n",
       "      <td>2</td>\n",
       "      <td>70</td>\n",
       "      <td>70</td>\n",
       "      <td>63</td>\n",
       "    </tr>\n",
       "    <tr>\n",
       "      <th>4</th>\n",
       "      <td>2</td>\n",
       "      <td>4</td>\n",
       "      <td>3</td>\n",
       "      <td>1</td>\n",
       "      <td>2</td>\n",
       "      <td>83</td>\n",
       "      <td>85</td>\n",
       "      <td>86</td>\n",
       "    </tr>\n",
       "  </tbody>\n",
       "</table>\n",
       "</div>"
      ],
      "text/plain": [
       "  gender race parents_edu lunch test_prep  math score  reading score  \\\n",
       "0      2    4           4     1         1          59             70   \n",
       "1      1    4           3     1         2          96             93   \n",
       "2      2    4           4     2         2          57             76   \n",
       "3      1    2           4     2         2          70             70   \n",
       "4      2    4           3     1         2          83             85   \n",
       "\n",
       "   writing score  \n",
       "0             78  \n",
       "1             87  \n",
       "2             77  \n",
       "3             63  \n",
       "4             86  "
      ]
     },
     "execution_count": 16,
     "metadata": {},
     "output_type": "execute_result"
    }
   ],
   "source": [
    "df.head()"
   ]
  },
  {
   "cell_type": "markdown",
   "id": "b69be270",
   "metadata": {},
   "source": [
    "# Arrange Data Into Features and Target"
   ]
  },
  {
   "cell_type": "code",
   "execution_count": 17,
   "id": "141157ef",
   "metadata": {},
   "outputs": [],
   "source": [
    "features = ['gender','race','parents_edu','lunch','test_prep']\n",
    "X = df.loc[:, features]\n",
    "y = df.loc[:, ['math score']]"
   ]
  },
  {
   "cell_type": "code",
   "execution_count": 18,
   "id": "05f6f18e",
   "metadata": {},
   "outputs": [],
   "source": [
    "X_train, X_test, y_train, y_test = train_test_split(X, y, random_state=0, train_size = .75)"
   ]
  },
  {
   "cell_type": "markdown",
   "id": "fca2685f",
   "metadata": {},
   "source": [
    "# Make an Instance of the Model"
   ]
  },
  {
   "cell_type": "code",
   "execution_count": 19,
   "id": "e2f0120c",
   "metadata": {},
   "outputs": [],
   "source": [
    "reg = DecisionTreeRegressor(max_depth = 2, random_state = 0)"
   ]
  },
  {
   "cell_type": "markdown",
   "id": "71ecb433",
   "metadata": {},
   "source": [
    "# Train the Model on the Data"
   ]
  },
  {
   "cell_type": "code",
   "execution_count": 20,
   "id": "d03833ff",
   "metadata": {},
   "outputs": [
    {
     "data": {
      "text/plain": [
       "DecisionTreeRegressor(max_depth=2, random_state=0)"
      ]
     },
     "execution_count": 20,
     "metadata": {},
     "output_type": "execute_result"
    }
   ],
   "source": [
    "reg.fit(X_train, y_train)"
   ]
  },
  {
   "cell_type": "markdown",
   "id": "91aa9294",
   "metadata": {},
   "source": [
    "# Predict Labels of Unseen Test Data"
   ]
  },
  {
   "cell_type": "code",
   "execution_count": 21,
   "id": "c569a7d1",
   "metadata": {},
   "outputs": [
    {
     "data": {
      "text/plain": [
       "array([70.06046512, 81.79012346, 70.06046512, 58.47058824, 58.47058824,\n",
       "       70.06046512, 70.06046512, 68.77142857, 58.47058824, 58.47058824])"
      ]
     },
     "execution_count": 21,
     "metadata": {},
     "output_type": "execute_result"
    }
   ],
   "source": [
    "reg.predict(X_test[0:10])"
   ]
  },
  {
   "cell_type": "code",
   "execution_count": 22,
   "id": "d8bdac71",
   "metadata": {},
   "outputs": [
    {
     "data": {
      "text/html": [
       "<div>\n",
       "<style scoped>\n",
       "    .dataframe tbody tr th:only-of-type {\n",
       "        vertical-align: middle;\n",
       "    }\n",
       "\n",
       "    .dataframe tbody tr th {\n",
       "        vertical-align: top;\n",
       "    }\n",
       "\n",
       "    .dataframe thead th {\n",
       "        text-align: right;\n",
       "    }\n",
       "</style>\n",
       "<table border=\"1\" class=\"dataframe\">\n",
       "  <thead>\n",
       "    <tr style=\"text-align: right;\">\n",
       "      <th></th>\n",
       "      <th>gender</th>\n",
       "      <th>race</th>\n",
       "      <th>parents_edu</th>\n",
       "      <th>lunch</th>\n",
       "      <th>test_prep</th>\n",
       "    </tr>\n",
       "  </thead>\n",
       "  <tbody>\n",
       "    <tr>\n",
       "      <th>993</th>\n",
       "      <td>1</td>\n",
       "      <td>4</td>\n",
       "      <td>6</td>\n",
       "      <td>1</td>\n",
       "      <td>2</td>\n",
       "    </tr>\n",
       "  </tbody>\n",
       "</table>\n",
       "</div>"
      ],
      "text/plain": [
       "    gender race parents_edu lunch test_prep\n",
       "993      1    4           6     1         2"
      ]
     },
     "execution_count": 22,
     "metadata": {},
     "output_type": "execute_result"
    }
   ],
   "source": [
    "X_test.head(1)"
   ]
  },
  {
   "cell_type": "code",
   "execution_count": 23,
   "id": "71bdb446",
   "metadata": {},
   "outputs": [
    {
     "name": "stderr",
     "output_type": "stream",
     "text": [
      "C:\\Users\\USER\\anaconda3\\lib\\site-packages\\sklearn\\base.py:450: UserWarning: X does not have valid feature names, but DecisionTreeRegressor was fitted with feature names\n",
      "  warnings.warn(\n"
     ]
    },
    {
     "data": {
      "text/plain": [
       "array([70.06046512])"
      ]
     },
     "execution_count": 23,
     "metadata": {},
     "output_type": "execute_result"
    }
   ],
   "source": [
    "reg.predict(X_test.iloc[0].values.reshape(1,-1))"
   ]
  },
  {
   "cell_type": "markdown",
   "id": "3d9483c0",
   "metadata": {},
   "source": [
    "# Measuring Train Test Split Model Performance"
   ]
  },
  {
   "cell_type": "code",
   "execution_count": 24,
   "id": "ead28bcd",
   "metadata": {},
   "outputs": [
    {
     "name": "stdout",
     "output_type": "stream",
     "text": [
      "0.1869996726839941\n"
     ]
    }
   ],
   "source": [
    "score = reg.score(X_test, y_test)\n",
    "print(score)"
   ]
  }
 ],
 "metadata": {
  "kernelspec": {
   "display_name": "Python 3 (ipykernel)",
   "language": "python",
   "name": "python3"
  },
  "language_info": {
   "codemirror_mode": {
    "name": "ipython",
    "version": 3
   },
   "file_extension": ".py",
   "mimetype": "text/x-python",
   "name": "python",
   "nbconvert_exporter": "python",
   "pygments_lexer": "ipython3",
   "version": "3.9.13"
  }
 },
 "nbformat": 4,
 "nbformat_minor": 5
}
